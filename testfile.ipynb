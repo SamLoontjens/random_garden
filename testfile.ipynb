{
 "cells": [
  {
   "cell_type": "code",
   "execution_count": 1,
   "metadata": {},
   "outputs": [],
   "source": [
    "from random_garden_package.random_garden_generator import random_garden, load_ascii_art"
   ]
  },
  {
   "cell_type": "code",
   "execution_count": 3,
   "metadata": {},
   "outputs": [
    {
     "data": {
      "text/plain": [
       "55"
      ]
     },
     "execution_count": 3,
     "metadata": {},
     "output_type": "execute_result"
    }
   ],
   "source": [
    "thing = load_ascii_art()\n",
    "len(thing)"
   ]
  },
  {
   "cell_type": "code",
   "execution_count": 4,
   "metadata": {},
   "outputs": [
    {
     "data": {
      "text/plain": [
       "'bellflower'"
      ]
     },
     "execution_count": 4,
     "metadata": {},
     "output_type": "execute_result"
    }
   ],
   "source": [
    "thing[0].name"
   ]
  },
  {
   "cell_type": "code",
   "execution_count": 14,
   "metadata": {},
   "outputs": [
    {
     "name": "stdout",
     "output_type": "stream",
     "text": [
      "Seed: 1703561751\n",
      "                                                                                                                ~                  ~                       ~                                             \n",
      "                                               ~                              ~         ~                         ~                                                    ~                                 \n",
      "            ~        ~                                            ~   ~ ~                              ~ ~           ~        ~               ~                                                          \n",
      "                                           ~                                               ~  ~                                                      ~                                                   \n",
      "                                                                                                                                                                                                         \n",
      "                                                                             ~                                                                                                                           \n",
      "                       ~          ~                                            ~ ~                                                                                                          ~            \n",
      "                                    ~   ~                   ~                               ~                                                                                            ~               \n",
      "                    ~                      ~             ~                                                                                  ~                                                            \n",
      "                                                                         ~         ~                 ~                                             ~                            ~               ~        \n",
      "                                         ~           ~~                                            ~                                                                                                   ~ \n",
      "                                                                                                                                                                                   ~                     \n",
      "                                                           ~                                                       ~ ~                                                      ~                 ~          \n",
      "                                        ~                                ~                                                                                                                               \n",
      "                                 ~     ~                                                  ~                                                                                 ~                            \n",
      "                                              ~                                                              ~                       ~                                      ~                            \n",
      "     ~                                                                                                     ~                               ~                             ~                               \n",
      "                                      .-._   _ _ _ _ _ _ _ _                                           ~~                                                                                                \n",
      "   __       __      ~      .-''-.__.-'00  '-' ' ' ' ' ' ' ' '-.                  ~                        ~                    ~                                        ~                    ~           \n",
      "  / <`     '> \\           '.___ '    .   .--_'-' '-' '-' _'-' '._               ~   ~                                 ~                                                            ~        ~            \n",
      " (  / @   @ \\  )           V: V 'vv-'   '_   '.       .'  _..' '.'.                                  ~                                                                ~                                  \n",
      "  \\(_ _\\_/_ _)/        ~     '=.____.=_.--'   :_.__.__:_   '.   : :                                                  ~                                                                                   \n",
      "(\\ `-/     \\-' /)                    (((____.-' ^^ ^._ '-.  /   : :  ~~                                                                                              ~                        ~          \n",
      " \"===\\     /===\"                   _.^^^^^^^^^       ^ (((-'\\ .' /         ~    ~                                                                                                                        \n",
      "  .==')___(`==.               _.^^^^      ^^    ^^   _____..'  .' ^._                                                                                                                  ~       ~         \n",
      "^~^~^~^~^~^~^~^~^~~~~~~~~~^^^^^       ^^            '-._____.-'     ^~~~~~^~~~~~~~~^~~~~~~~~~~~~~~~~~~^~^~~~^^~~~~~~~~~~~~~^^~~~~~~~~^^~~~~~~~~~~~~~~~~~~~^~~~~~^~~~~~~~~^^^~~~~~~~~~~~~~~~~~~~~~~~~~~~~ \n",
      "\n",
      "\n",
      "Artists:\n",
      "hjw, snd\n",
      "\n",
      "Editors:\n",
      "Sam Loontjens\n"
     ]
    }
   ],
   "source": [
    "stuff = random_garden(weather= 'day', biome='mangrove')\n",
    "print(stuff)"
   ]
  }
 ],
 "metadata": {
  "kernelspec": {
   "display_name": "base",
   "language": "python",
   "name": "python3"
  },
  "language_info": {
   "codemirror_mode": {
    "name": "ipython",
    "version": 3
   },
   "file_extension": ".py",
   "mimetype": "text/x-python",
   "name": "python",
   "nbconvert_exporter": "python",
   "pygments_lexer": "ipython3",
   "version": "3.11.5"
  }
 },
 "nbformat": 4,
 "nbformat_minor": 2
}
